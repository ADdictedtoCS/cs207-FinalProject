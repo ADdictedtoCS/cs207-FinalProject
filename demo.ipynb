{
 "cells": [
  {
   "cell_type": "markdown",
   "metadata": {},
   "source": [
    "# TODO \n",
    "Small Introduction- Just like in Milestone2.ipynb\n",
    "Basic use case with the following\n"
   ]
  },
  {
   "cell_type": "code",
   "execution_count": 1,
   "metadata": {},
   "outputs": [
    {
     "name": "stdout",
     "output_type": "stream",
     "text": [
      "Input x Value: [0.]\n",
      "Gradient: [1.]\n",
      "Output z Value: [0.84147098]\n",
      "Gradient: [0.54030231]\n",
      "The value is: [0.84147098]\n",
      "The gradient is: [0.54030231]\n"
     ]
    }
   ],
   "source": [
    "import numpy as np \n",
    "from autodiff.variable import Variable\n",
    "import autodiff.function as F\n",
    "\n",
    "# Define a variable with an initial value\n",
    "x = Variable(0.)\n",
    "print(\"Input x\", x)\n",
    "\n",
    "# Define a function\n",
    "def my_func(x):\n",
    "    return F.sin(F.exp(x))\n",
    "\n",
    "# Variable z is the result of calling function on x\n",
    "z = my_func(x)\n",
    "\n",
    "# Get value and gradient of z\n",
    "print(\"Output z\", z)\n",
    "\n",
    "# Alternatively, with direct access to the value and gradient attributes.\n",
    "print('The value is: {}'.format(z.val))\n",
    "print('The gradient is: {}'.format(z.grad))"
   ]
  },
  {
   "cell_type": "markdown",
   "metadata": {},
   "source": [
    "# TODO: \n",
    "As seen above, autodiff provdes us with a natural way to define a specified function, by composition of elemeentary functions. Refer to the documentation for the elementary function currently implemented. \n",
    "\n",
    "Furthermore, autodiff objectfs can be used with higher-level algortihms such as.. whcih reuire evaluanting derivatives to find roots..."
   ]
  },
  {
   "cell_type": "code",
   "execution_count": 2,
   "metadata": {},
   "outputs": [
    {
     "name": "stdout",
     "output_type": "stream",
     "text": [
      "Current x: [4.]\n",
      "Current x: [3.33333333]\n",
      "Current x: [2.88888889]\n",
      "Current x: [2.59259259]\n",
      "Current x: [2.39506173]\n",
      "Current x: [2.26337449]\n",
      "Current x: [2.17558299]\n",
      "Current x: [2.11705533]\n",
      "Current x: [2.07803688]\n",
      "Current x: [2.05202459]\n",
      "Current x: [2.03468306]\n",
      "Current x: [2.02312204]\n",
      "Current x: [2.01541469]\n",
      "Current x: [2.01027646]\n",
      "Current x: [2.00685097]\n",
      "Current x: [2.00456732]\n",
      "The root of the function is: [2.00456732]\n"
     ]
    }
   ],
   "source": [
    "import numpy as np \n",
    "from autodiff.variable import Variable\n",
    "import autodiff.function as F\n",
    "\n",
    "\n",
    "def newtons_method(function, guess, epsilon):\n",
    "    x = Variable(guess)\n",
    "    f = function(x)\n",
    "    i = 0\n",
    "    max_out = False\n",
    "    while abs(f.val) >= epsilon and max_out == False:\n",
    "        x = x - f.val / f.grad\n",
    "        f = function(x)\n",
    "        print('Current x: {}'.format(x.val))\n",
    "        i += 1\n",
    "        if i >= 10000:\n",
    "            max_out = True\n",
    "    print('The root of the function is: {}'.format(x.val))\n",
    "            \n",
    "\n",
    "def my_func(x):\n",
    "    return 5*(x-2)**3\n",
    "\n",
    "guess = 5\n",
    "epsilon = 0.000001\n",
    "\n",
    "newtons_method(my_func, guess, epsilon)"
   ]
  },
  {
   "cell_type": "code",
   "execution_count": 3,
   "metadata": {},
   "outputs": [
    {
     "ename": "AttributeError",
     "evalue": "module 'autodiff.function' has no attribute 'arctan'",
     "output_type": "error",
     "traceback": [
      "\u001b[0;31m---------------------------------------------------------------------------\u001b[0m",
      "\u001b[0;31mAttributeError\u001b[0m                            Traceback (most recent call last)",
      "\u001b[0;32m<ipython-input-3-005c3043ba8d>\u001b[0m in \u001b[0;36m<module>\u001b[0;34m\u001b[0m\n\u001b[0;32m----> 1\u001b[0;31m \u001b[0mF\u001b[0m\u001b[0;34m.\u001b[0m\u001b[0marctan\u001b[0m\u001b[0;34m(\u001b[0m\u001b[0;34m)\u001b[0m\u001b[0;34m\u001b[0m\u001b[0;34m\u001b[0m\u001b[0m\n\u001b[0m",
      "\u001b[0;31mAttributeError\u001b[0m: module 'autodiff.function' has no attribute 'arctan'"
     ]
    }
   ],
   "source": []
  },
  {
   "cell_type": "code",
   "execution_count": null,
   "metadata": {},
   "outputs": [],
   "source": []
  }
 ],
 "metadata": {
  "kernelspec": {
   "display_name": "Python 3",
   "language": "python",
   "name": "python3"
  },
  "language_info": {
   "codemirror_mode": {
    "name": "ipython",
    "version": 3
   },
   "file_extension": ".py",
   "mimetype": "text/x-python",
   "name": "python",
   "nbconvert_exporter": "python",
   "pygments_lexer": "ipython3",
   "version": "3.7.3"
  }
 },
 "nbformat": 4,
 "nbformat_minor": 2
}
