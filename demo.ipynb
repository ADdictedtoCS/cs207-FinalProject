{
 "cells": [
  {
   "cell_type": "markdown",
   "metadata": {},
   "source": [
    "# Basic Demo of Autodiff\n",
    "\n",
    "#### (Note this demo is here for ease of access to users and similar demos can be found in milestone2.ipynb)\n",
    "\n",
    "\n",
    "See below for a basic example of how the user can interact with our package:\n",
    "\n",
    "The basic steps are:\n",
    "0. Import package\n",
    "1. Create a variable instantiated at an initial value \n",
    "    - Below we create variable x with a value of 0\n",
    "2. Define a function \n",
    "    - Functions take variables as inputs and return new variables with updated value and gradient\n",
    "    - Below we define the function $f(x) := sin(exp(x))$\n",
    "3. Call the function and get the value and gradient of the resulting variable \n"
   ]
  },
  {
   "cell_type": "code",
   "execution_count": 18,
   "metadata": {},
   "outputs": [
    {
     "name": "stdout",
     "output_type": "stream",
     "text": [
      "Example 1:\n",
      "Input x Value: [0.]\n",
      "Gradient: [1.]\n",
      "Output z Value: [0.54030231]\n",
      "Gradient: [-0.84147098]\n",
      "The value is: [0.54030231]\n",
      "The gradient is: [-0.84147098]\n",
      "\n",
      "Example 2:\n",
      "Input y Value: [3.]\n",
      "Gradient: [1.]\n",
      "The value is: [1490.47882579]\n",
      "The gradient is: [8264.97142644]\n"
     ]
    }
   ],
   "source": [
    "import numpy as np \n",
    "import autodiff.function as F\n",
    "from autodiff.variable import Variable\n",
    "\n",
    "# Example 1: cos(e^x) at x = 3\n",
    "print(\"Example 1:\")\n",
    "\n",
    "# Define a variable with an initial value\n",
    "x = Variable(0.)\n",
    "print(\"Input x\", x)\n",
    "\n",
    "# Define a function\n",
    "def my_func(x):\n",
    "    return F.cos(F.exp(x))\n",
    "\n",
    "# Variable z is the result of calling function on x\n",
    "z = my_func(x)\n",
    "\n",
    "# Get value and gradient of z\n",
    "print(\"Output z\", z)\n",
    "\n",
    "# Alternatively, with direct access to the value and gradient attributes.\n",
    "print('The value is: {}'.format(z.val))\n",
    "print('The gradient is: {}'.format(z.grad))\n",
    "\n",
    "\n",
    "# Example 2: sinh(2^x) at x = 3\n",
    "print(\"\\nExample 2:\")\n",
    "\n",
    "# Define a variable with an initial value\n",
    "y = Variable(3.)\n",
    "print(\"Input y\", y)\n",
    "\n",
    "# Define a function\n",
    "def my_func2(y):\n",
    "    return F.sinh(F.exp(y,2))\n",
    "\n",
    "# Variable q is the result of calling function on y\n",
    "q = my_func2(y)\n",
    "\n",
    "# Print value and gradient of q\n",
    "print('The value is: {}'.format(q.val))\n",
    "print('The gradient is: {}'.format(q.grad))"
   ]
  },
  {
   "cell_type": "markdown",
   "metadata": {},
   "source": [
    "# Simple Implementation of Newton's Method\n",
    "As seen above, autodiff provides us with a natural way to define a specified function, by composition of elementary functions.  \n",
    "\n",
    "Furthermore, autodiff objects can be used to implement higher level algorithms. For example, users of our package may be interested in appyling it to solve optimization problems. As such, we provide an example of how our package could be used to implement the Newton-Raphson method for root finding:"
   ]
  },
  {
   "cell_type": "code",
   "execution_count": 47,
   "metadata": {},
   "outputs": [
    {
     "name": "stdout",
     "output_type": "stream",
     "text": [
      "Current x: [4.]\n",
      "Current x: [3.33333333]\n",
      "Current x: [2.88888889]\n",
      "Current x: [2.59259259]\n",
      "Current x: [2.39506173]\n",
      "Current x: [2.26337449]\n",
      "Current x: [2.17558299]\n",
      "Current x: [2.11705533]\n",
      "Current x: [2.07803688]\n",
      "Current x: [2.05202459]\n",
      "Current x: [2.03468306]\n",
      "Current x: [2.02312204]\n",
      "Current x: [2.01541469]\n",
      "Current x: [2.01027646]\n",
      "Current x: [2.00685097]\n",
      "Current x: [2.00456732]\n",
      "The root of the function is: [2.00456732]\n"
     ]
    }
   ],
   "source": [
    "import numpy as np \n",
    "from autodiff.variable import Variable\n",
    "import autodiff.function as F\n",
    "\n",
    "\n",
    "def newtons_method(function, guess, epsilon):\n",
    "    x = Variable(guess)\n",
    "    f = function(x)\n",
    "    i = 0\n",
    "    max_out = False\n",
    "    while abs(f.val) >= epsilon and max_out == False:\n",
    "        x = x - f.val / f.grad\n",
    "        f = function(x)\n",
    "        print('Current x: {}'.format(x.val))\n",
    "        i += 1\n",
    "        if i >= 10000:\n",
    "            max_out = True\n",
    "    print('The root of the function is: {}'.format(x.val))\n",
    "            \n",
    "\n",
    "def my_func(x):\n",
    "    return 5*(x-2)**3\n",
    "\n",
    "guess = 5\n",
    "epsilon = 0.000001\n",
    "\n",
    "newtons_method(my_func, guess, epsilon)"
   ]
  }
 ],
 "metadata": {
  "kernelspec": {
   "display_name": "Python 3",
   "language": "python",
   "name": "python3"
  },
  "language_info": {
   "codemirror_mode": {
    "name": "ipython",
    "version": 3
   },
   "file_extension": ".py",
   "mimetype": "text/x-python",
   "name": "python",
   "nbconvert_exporter": "python",
   "pygments_lexer": "ipython3",
   "version": "3.7.3"
  }
 },
 "nbformat": 4,
 "nbformat_minor": 2
}
