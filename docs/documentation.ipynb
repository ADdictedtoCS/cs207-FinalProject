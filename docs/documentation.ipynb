{
 "cells": [
  {
   "cell_type": "markdown",
   "metadata": {},
   "source": [
    "# Documentation\n",
    "## CS207 Final Project, Group 28\n",
    "#### Team Members:\n",
    "* Josh Bodner  \n",
    "* Théo Guenais  \n",
    "* Daiki Ina  \n",
    "* Junzhi Gong"
   ]
  },
  {
   "cell_type": "markdown",
   "metadata": {},
   "source": [
    "# Introduction\n",
    "\n",
    "Ever since the notion of a derivative was first defined in the days of Newton and Leibniz, differentiation has become a crucial component across quantitative analyses. Today, differentiation is applied within a wide range of scientific disciplines from cell biology to electrical engineering and astrophysics. Differentiation is also central to the domain of optimization where it is applied to find maximum and minimum values of functions.\n",
    "\n",
    "Because of the widespread use and applicability of differentiation, it would be highly beneficial if scientists could efficiently calculate derivatives of functions using a Python package. Such a package could save scientists time and energy from having to compute derivatives symbolically, which can be especially complicated if the function of interest has vector inputs and outputs.\n",
    "\n",
    "Our Python package, **autodiff**, addresses this need by allowing the user to implement the forward mode of automatic differentiation (AD). Using AD, we are able to calculate derivatives to machine precision in a manner that is less costly than symbolic differentiation."
   ]
  },
  {
   "cell_type": "markdown",
   "metadata": {},
   "source": [
    "# Background\n",
    "In this section we provide a brief overview of the mathematical concepts relevant to our implementation:\n",
    "\n",
    "##### 1. Multivariable Differental Calculus:\n",
    "\n",
    "Let $f: {\\rm R^m} \\rightarrow {\\rm R^n}: x \\mapsto f(x)$ . Under certain regularity and smoothness assumptions, we define the derivative of f as $ f': {\\rm R^m} \\rightarrow L_{{\\rm R^m}, {\\rm R^n}}$, with $ L_{{\\rm R^m}, {\\rm R^n}}$ being the space of the linear mapping $ {\\rm R^m}\\rightarrow {\\rm R^n}$ which can be transformed to $ {\\rm R^{mxn}}$.\n",
    "\n",
    "*This general definition might be broken due to lack of smoothness, in which case, we refer to \"directional derivatives\" and specifically \"Gateaux-derivatives\".*\n",
    "\n",
    "From this lense, we can understand the derivative of a function evaluated at a given point to be a matrix. When this function is real-valued, we can obtain a vector $ \\nabla_x f \\in {\\rm R^m} $.\n",
    "\n",
    "Specifically, the gradient of a scalar-valued multivariable function is a vector of its partial derivatives with respect to each input:\n",
    "\n",
    "$\\nabla f = \n",
    "  \\begin{bmatrix}\n",
    "    \\frac{\\partial f}{\\partial x_1} \\\\\n",
    "    \\frac{\\partial f}{\\partial x_2} \\\\\n",
    "    \\frac{\\partial f}{\\partial x_3} \\\\\n",
    "    \\vdots\n",
    "  \\end{bmatrix}$\n",
    "\n",
    "##### 2. Chain Rule\n",
    "Let $ f: {\\rm R^m} \\rightarrow {\\rm R^n} $ and $ g: {\\rm R^p} \\rightarrow {\\rm R^m} $. \n",
    "Then $ f \\circ g: {\\rm R^p} \\rightarrow {\\rm R^n} $ is such that (under regularity assumptions), $ (f \\circ g)'(x) = f'(g(x)) \\cdot g'(x) $. This operational rule, known as the chain rule, is a crucial part of AD.\n",
    "\n",
    "---\n",
    "\n",
    "*Example:*  \n",
    "$ f(x) = sin(x)$  \n",
    "$ g(x) = e^{x}$  \n",
    "$ (f \\circ g)(x) = sin(e^{x})$  \n",
    " \n",
    "$(f \\circ g)'(x) = f'(g(x))g'(x) = cos(e^{x})e^{x}$\n",
    "\n",
    "##### 3. Automatic Differentiation\n",
    "\n",
    "*Automatic Differentiation and Forward Mode:* \n",
    "\n",
    "Automatic differentiation is a process for evaluating derivatives computationally at a particular evaluation point. Specifically, the forward mode of automatic differentiation calculates the product of the gradient with a seed vector $ \\nabla f \\cdot p $ or the product of the Jacobian with a seed vector ($Jp$) if $f$ is a multi-dimensional function.\n",
    "\n",
    "In the forward mode of automatic differentiation, the calculation is done in steps where the partial derivatives and values are computed at each step of the computational graph. The edges of the computational graph are such that transitioning from node to node involves simple operations or calculation of elementary functions such as $sin(x)$, $cos(x)$, $e^{x}$, etc.\n",
    "\n",
    "*Precision and Efficiency:*\n",
    "\n",
    "Automatic differentiation is able to evaluate derivatives to machine precision. This is because it computes exact derivatives using the component elementary functions at each step of the computational graph. The precision of automatic differentiation is one of its advantages over other methods such as numerical differentiation, which can suffer from floating point precision errors.\n",
    "\n",
    "The forward mode of automatic differentiation is also particularly efficient when the the number of functions to evaluate is much larger than the number of independent variables $ n >> m$  for $f: {\\rm R^m} \\rightarrow {\\rm R^n}$. This is because forward mode involves performing one sweep over the computational graph for each of the m independent variables. In comparison, the reverse mode of automatic differentiation requires n sweeps over the computational graph and is thus more efficient when $m >> n$.\n",
    "\n",
    "---\n",
    "*Graph Structure Example:*  \n",
    "\n",
    "$ y = sin(e^{x}) + x$  \n",
    "Calculate $\\frac{dy}{dx}$ at x=5 \n",
    "\n",
    "Evaluation trace of forward mode of AD: \n",
    "\n",
    "| Trace | Elementary Function | Current Value |  Derivative          | Derivative Value |\n",
    "|-------|---------------------|---------------|----------------------|------------------|\n",
    "| $x_1$ |        $x_1$        |    5          | $\\dot{x_1}$          |        1         |\n",
    "| $x_2$ |        $e^{x_1}$    |    148.413    | $e^{x_1}\\dot{x_1}$   |        148.413   |\n",
    "| $x_3$ |        $sin(x_2)$   |    0.524      | $cos(x_2)\\dot{x_2}$  |       -126.425   |\n",
    "| $x_4$ |        $x_3 + x_1$  |    5.524      | $\\dot{x_3}+\\dot{x_1}$|       -125.425   |\n",
    "\n",
    "\n",
    "The computational graph can be seen below:  \n",
    "![example_graph](figs/milestone1_graph.png \"Computational Graph\")"
   ]
  },
  {
   "cell_type": "markdown",
   "metadata": {},
   "source": [
    "# How to use autodiff"
   ]
  },
  {
   "cell_type": "markdown",
   "metadata": {},
   "source": [
    "**Install autodiff package:**\n",
    "\n",
    "----\n",
    "*Option 1:*\n",
    "\n",
    "Our package is available on PyPI. The preferred way for installing our package via PyPI is as follows:\n",
    "\n",
    "First, the user can (optionally) create a virtual environment before installing our package dependencies. A virtual enviroment would allow the user to compartmentalize the the dependencies for our package from the dependencies of other projects they might be working on.\n",
    "\n",
    "For users unfamiliar with virtual environments, the tool virtualenv can be easily installed via:\n",
    "\n",
    "    sudo easy_install virtualenv\n",
    "\n",
    "The user can then activate a virtual environment via:\n",
    "\n",
    "    virtualenv env\n",
    "    source env/bin/activate\n",
    "    \n",
    "Note: the user can later deactivate the virtual enviroment via:\n",
    "\n",
    "    deactivate\n",
    "    \n",
    "Then, the user can simply install our package from PyPI via:\n",
    "\n",
    "    pip install autodiff-ADdictedtoCS\n",
    "\n",
    "----\n",
    "*Option 2:*\n",
    "\n",
    "Alternatively, the autodiff package can be downloaded directly from our organization's github repository at: https://github.com/ADdictedtoCS/cs207-FinalProject.git\n",
    "\n",
    "The user can then install the requirements via:\n",
    "\n",
    "    pip install -r requirements.txt\n",
    "    \n",
    "----"
   ]
  },
  {
   "cell_type": "markdown",
   "metadata": {},
   "source": [
    "The user can then import our package as follows...   "
   ]
  },
  {
   "cell_type": "code",
   "execution_count": 5,
   "metadata": {},
   "outputs": [],
   "source": [
    "#  Import statements\n",
    "import autodiff\n",
    "import autodiff.function as F\n",
    "import autodiff.optim as optim\n",
    "from autodiff.variable import Variable"
   ]
  },
  {
   "cell_type": "markdown",
   "metadata": {},
   "source": [
    "See below for an example of how the user can interact with our package:\n",
    "\n",
    "1. Create a \"variable\" instantiated with a vector of initial values\n",
    "    - For a multivariate function of 3 inputs for example, \"variable\" takes in the initial value\n",
    "      of each input\n",
    "2. Define a function \n",
    "    - Functions take variables as inputs and return new variables with updated values and gradients\n",
    "3. Call the function and get the value and gradient of the resulting variable \n",
    "    - The user can simply print the variable or alternatively call .val or .grad on the variable\n",
    "\n",
    "*Remarks*: \n",
    "- The user can benefit from a natural and simple way to interact with the Variables and Functions.\n",
    "-  autodiff.function also supports a range of different elementary functions. See \"Implementation Details\" section below for further details.\n",
    "\n"
   ]
  },
  {
   "cell_type": "markdown",
   "metadata": {},
   "source": [
    "### Example 1: Single input, single output"
   ]
  },
  {
   "cell_type": "code",
   "execution_count": 2,
   "metadata": {},
   "outputs": [
    {
     "name": "stdout",
     "output_type": "stream",
     "text": [
      "Input x:\n",
      "Value: 0.0\n",
      "Gradient: 1.0\n",
      "\n",
      "Output z:\n",
      "Value: 0.8414709848078965\n",
      "Gradient: 0.5403023058681398\n",
      "The value is: 0.8414709848078965\n",
      "The gradient is: 0.5403023058681398\n"
     ]
    }
   ],
   "source": [
    "# Example R^1 -> R^1\n",
    "\n",
    "# Define a variable with an initial value\n",
    "x = Variable(0.)\n",
    "print(\"Input x:\")\n",
    "print(x)\n",
    "\n",
    "# Define a function\n",
    "def my_func(x):\n",
    "    return F.sin(F.exp(x))\n",
    "\n",
    "# Variable z is the result of calling function on x\n",
    "z = my_func(x)\n",
    "\n",
    "# Get value and gradient of z\n",
    "print(\"\\nOutput z:\")\n",
    "print(z)\n",
    "\n",
    "# Alternatively:\n",
    "print('The value is: {}'.format(z.val))\n",
    "print('The gradient is: {}'.format(z.grad))"
   ]
  },
  {
   "cell_type": "markdown",
   "metadata": {},
   "source": [
    "Above, we initialize a variable x with a value of 0\n",
    "\n",
    "We then define the function:\n",
    "𝑓(𝑥)=𝑠𝑖𝑛(𝑒𝑥𝑝(𝑥)) \n",
    "Lastly, we get the value and the gradient of the function at the initial point:\n",
    "Value:  𝑠𝑖𝑛(𝑒𝑥𝑝(0))=0.841 \n",
    "Gradient:  𝑒𝑥𝑝(0)∗𝑐𝑜𝑠(𝑒𝑥𝑝(0))=0.540"
   ]
  },
  {
   "cell_type": "markdown",
   "metadata": {},
   "source": [
    "### Example 2: Multi input, single output"
   ]
  },
  {
   "cell_type": "code",
   "execution_count": 3,
   "metadata": {},
   "outputs": [
    {
     "name": "stdout",
     "output_type": "stream",
     "text": [
      "Input X\n",
      "Value: [[0.]\n",
      " [1.]\n",
      " [2.]]\n",
      "Gradient: [[1. 0. 0.]\n",
      " [0. 1. 0.]\n",
      " [0. 0. 1.]]\n",
      "\n",
      "Output:\n",
      "The value is: 3.0\n",
      "The gradient is: [[0. 2. 1.]]\n"
     ]
    }
   ],
   "source": [
    "# Example R^3 -> R^1\n",
    "\n",
    "# Define a variable with a vector of initial values\n",
    "X = Variable([0,1,2])\n",
    "print(\"Input X\")\n",
    "print(X)\n",
    "\n",
    "# Define a function\n",
    "# Unroll allows us to define an expression using the individual input variables\n",
    "def my_func(X):\n",
    "    x, y, z = X.unroll()\n",
    "    return F.cos(x) + y * z\n",
    "\n",
    "# Variable out is the result of calling function on X\n",
    "out = my_func(X)\n",
    "\n",
    "# Print value and gradient of the output\n",
    "print('\\nOutput:')\n",
    "print('The value is: {}'.format(out.val))\n",
    "print('The gradient is: {}'.format(out.grad))"
   ]
  },
  {
   "cell_type": "markdown",
   "metadata": {},
   "source": [
    "Above, we initialize \"Variable\" X with a vector of initial values [0, 1, 2]\n",
    "\n",
    "X is thus a vector of 3 input variables, which can be obtained via \"unroll\".\n",
    "We can call these input variables x, y, z\n",
    "\n",
    "We then define a function in terms of the input variables  \n",
    "     $f(x,y,z) = cos(x) + y*z$\n",
    "\n",
    "Lastly, we get the value and the gradient of the function at the initial point:  \n",
    "Value:  \n",
    "$cos(0) + 1*2 = 3$  \n",
    "Gradient:  \n",
    "$ \\frac{\\partial{f}}{\\partial{x}} = -sin(x) = 0$  \n",
    "$ \\frac{\\partial{f}}{\\partial{y}} = z = 2 $  \n",
    "$ \\frac{\\partial{f}}{\\partial{z}} = y = 1 $  "
   ]
  },
  {
   "cell_type": "markdown",
   "metadata": {},
   "source": [
    "### Case 3: Multi input, multi output"
   ]
  },
  {
   "cell_type": "code",
   "execution_count": 4,
   "metadata": {},
   "outputs": [
    {
     "name": "stdout",
     "output_type": "stream",
     "text": [
      "Input X\n",
      "Value: [[0.]\n",
      " [1.]\n",
      " [2.]]\n",
      "Gradient: [[1. 0. 0.]\n",
      " [0. 1. 0.]\n",
      " [0. 0. 1.]]\n",
      "\n",
      "Output:\n",
      "The value is: \n",
      "[[0.84147098]\n",
      " [4.76219569]\n",
      " [0.30103   ]]\n",
      "The gradient is: \n",
      "[[0.54030231 0.         0.        ]\n",
      " [0.         1.         3.62686041]\n",
      " [0.         0.         0.21714724]]\n"
     ]
    }
   ],
   "source": [
    "# Example R^3 -> R^3\n",
    "\n",
    "# Define a variable with a vector of initial values\n",
    "X = Variable([0,1,2])\n",
    "print(\"Input X\")\n",
    "print(X)\n",
    "\n",
    "# Define a function\n",
    "# Unroll allows us to define an expression using the individual input variables\n",
    "# Concat is used to build the output vector of the function\n",
    "def my_func3(X):\n",
    "    x, y, z = X.unroll()\n",
    "    o1 = F.sin(F.exp(x))\n",
    "    o2 = y + F.cosh(z)\n",
    "    o3 = F.Log(10)(z)\n",
    "    out_X = F.concat([o1, o2, o3])\n",
    "    return out_X\n",
    "\n",
    "# Variable out is the result of calling function on X\n",
    "out = my_func3(X)\n",
    "\n",
    "# Print value and gradient of the output\n",
    "print('\\nOutput:')\n",
    "print('The value is: \\n{}'.format(out.val))\n",
    "print('The gradient is: \\n{}'.format(out.grad))"
   ]
  },
  {
   "cell_type": "markdown",
   "metadata": {},
   "source": [
    "Additionally, users of our package may be interested in appyling it to solve optimization problems. As such, we provide an example of how our package could be used to implement the Newton-Raphson method for root finding:"
   ]
  },
  {
   "cell_type": "code",
   "execution_count": 5,
   "metadata": {},
   "outputs": [
    {
     "name": "stdout",
     "output_type": "stream",
     "text": [
      "Current x: 4.0\n",
      "Current x: 3.3333333333333335\n",
      "Current x: 2.888888888888889\n",
      "Current x: 2.5925925925925926\n",
      "Current x: 2.3950617283950617\n",
      "Current x: 2.263374485596708\n",
      "Current x: 2.1755829903978054\n",
      "Current x: 2.11705532693187\n",
      "Current x: 2.078036884621247\n",
      "Current x: 2.052024589747498\n",
      "Current x: 2.034683059831665\n",
      "Current x: 2.023122039887777\n",
      "Current x: 2.015414693258518\n",
      "Current x: 2.0102764621723455\n",
      "Current x: 2.0068509747815635\n",
      "Current x: 2.0045673165210425\n",
      "The root of the function is: 2.0045673165210425\n"
     ]
    }
   ],
   "source": [
    "def newtons_method(function, guess, epsilon):\n",
    "    x = Variable(guess)\n",
    "    f = function(x)\n",
    "    i = 0\n",
    "    max_out = False\n",
    "    while abs(f.val) >= epsilon and max_out == False:\n",
    "        x = x - f.val / f.grad\n",
    "        f = function(x)\n",
    "        print('Current x: {}'.format(x.val))\n",
    "        i += 1\n",
    "        if i >= 10000:\n",
    "            max_out = True\n",
    "    print('The root of the function is: {}'.format(x.val))\n",
    "            \n",
    "\n",
    "def my_func(x):\n",
    "    return 5*(x-2)**3\n",
    "\n",
    "guess = 5\n",
    "epsilon = 0.000001\n",
    "\n",
    "newtons_method(my_func, guess, epsilon)"
   ]
  },
  {
   "cell_type": "markdown",
   "metadata": {},
   "source": [
    "# Software Organization"
   ]
  },
  {
   "cell_type": "markdown",
   "metadata": {},
   "source": [
    "##### Directory Structure:\n",
    "\n",
    "We have our main implementation stored in the autodiff directory. This is where modules for our implementation of the forward mode of AD are located. The autodiff directory has a subdirectory containing tests.\n",
    "\n",
    "```\n",
    "cs207-FinalProject/\n",
    "    docs/\n",
    "        documentation.ipynb\n",
    "        milestone1.ipynb\n",
    "        milestone2.ipynb     \n",
    "        demo/\n",
    "            demo.py\n",
    "            demo_newtons_method.py\n",
    "    autodiff/\n",
    "        __init__.py\n",
    "        function.py\n",
    "        optim.py\n",
    "        variable.py\n",
    "        utils.py     \n",
    "        tests/\n",
    "            __init__.py\n",
    "            test_function.py\n",
    "            test_reverse_function.py\n",
    "            test_reverse_variable.py\n",
    "            test_optim.py\n",
    "            test_variable.py\n",
    "            test_utils.py\n",
    "    demo.ipynb\n",
    "    README.md\n",
    "    requirements.txt\n",
    "    \n",
    "```\n",
    "##### Basic Modules:\n",
    "We included four modules in the autodiff directory as shown above. \n",
    "The function module contains our function class as well as the implementation of our elementary functions that constitute the computational graph. The variable module has our Variable and ReverseVariable class as well as the implementation of all the basic operations (addition, multiplication, subtraction, division, power). The Varibale class serves as the information flow within the computational graph for forward mode, and the ReverseVariable class accomplishes the same purpose for reverse mode. The utils module contains functions to be called by the variable class to make sure the input is of the correct type for the definition of a variable. The optim module has a superclass Optimizer, and its subclasses GradientDescent, RMSProp and Adam. They use automatic differentiations to find local critical points.\n",
    "\n",
    "##### Testing:\n",
    "\n",
    "Our test suite lives within the autodiff directory (see above). Additionally for continuous integration and code coverage we utilize both TravisCI and CodeCov. We set up basic functionality for TravisCI and CodeCov for our repository.\n",
    "\n",
    "Tests can be run simply via:  \n",
    "    \n",
    "    pytest\n",
    "    \n",
    "(or optional-for a more detailed coverage)\n",
    "\n",
    "    pytest --doctest-modules --cov --cov-report term-missing\n",
    "\n",
    "##### Distribution and Packaging:\n",
    "\n",
    "We distributed our package using PyPI (and upload with Twine). The user is able to install our package via the command line: \"pip install autodiff-ADdictedtoCS\"\n",
    "\n",
    "Optionally, the user can manually install our package by downloading our github repo from https://github.com/ADdictedtoCS/cs207-FinalProject.git , setting the current directory to the directory containing requirements.txt, and running \"pip install -r requirements.txt\". Before doing this, the user may want to set up a virtual enviroment using virtualenv. \n",
    "\n",
    "For more details on precisely how the user can install our package, along with examples of how to use our package, please refer to the *\"How to use autodiff\"* section above."
   ]
  },
  {
   "cell_type": "markdown",
   "metadata": {},
   "source": [
    "# Implementation Details\n",
    "\n",
    "\n",
    "##### Core Data Structures:\n",
    "\n",
    "For each function defined by users, we create a Directed Acyclic Graph (DAG) data structure, which contains all computing nodes for the forward mode of AD.\n",
    "\n",
    "Our operation is based upon two main concepts: \n",
    "* **variable** carries the information flow through the computational graph. (see below).\n",
    "* **function** implements the elementary functions and constitutes the edges (or nodes, depending on ones's interpretation of the computational graph).\n",
    "\n",
    "Within each node, we compute the value and gradient of the function at that point in the computational graph. Therefore, the lists from all nodes form the computation table in the forward mode of AD.\n",
    "\n",
    "##### Classes:\n",
    "\n",
    "**Variable**  \n",
    "Our core class, which carries the information flow within the computational graph.\n",
    "\n",
    "Variables are initialized at a particular value passed in by the user, and have a default gradient of 1 (the \"seed vector\").\n",
    "\n",
    "All of the basic functionality for algebra involving variables is implemented within the Variable class through operator overloading.\n",
    "\n",
    "For example, we define what addition means for Variables in terms of their values and gradients here:\n",
    "\n",
    "```Python\n",
    "    def __add__(self, other):\n",
    "        if isinstance(other, Variable):\n",
    "            out_val = self.val + other.val\n",
    "            out_grad = self.grad + other.grad\n",
    "            return Variable(val=out_val, grad=out_grad)\n",
    "        else:\n",
    "            new_val = get_right_shape(other)\n",
    "            out_val = self.val + get_right_shape(other)\n",
    "            out_grad = self.grad\n",
    "            return Variable(val=out_val, grad=out_grad)\n",
    "```\n",
    "\n",
    "In the current implementation, Variable can hold multiple values and gradient values (derivatives of multiple points). We rely on numpy arrays for this functionality to allow Variable hold an array of values and an array for gradient as well. \n",
    "\n",
    "\n",
    "**Function**  \n",
    "When called on a variable, a function returns a new variable with a transformed value and gradient.\n",
    "\n",
    "A function has the methods *get_val* and *get_grad* that denote how the function transforms a variables val and grad. Note that these methods are not implemented for the base class but for the elementary functions which are subclasses of function (see below for more details).\n",
    "\n",
    "The function class is also where we implement the chain rule for calculating gradients:\n",
    "\n",
    "```Python\n",
    "\n",
    "    def __call__(self, x):\n",
    "        \"\"\"\n",
    "        Implements the chain rule.\n",
    "        Input: autodiff.Variable type holding a val and grad\n",
    "        Output:  autodiff.Variable type holding the val, grad of the\n",
    "        transformed variable\n",
    "        \"\"\"\n",
    "        out_val = self.get_val(x.val)\n",
    "        out_grad = np.dot(self.get_grad(x.val), x.grad)\n",
    "        return Variable(val=out_val, grad=out_grad)\n",
    "\n",
    "```\n",
    "\n",
    "\n",
    "##### Important Attributes:\n",
    "\n",
    "In our current implementation, the key attributes for the **Variable** class are:\n",
    "\n",
    "*val* = The value. Can be an int, float, or numpy.array. When a variable is first initialized, this is passed in by the user.\n",
    "\n",
    "*grad* = The gradient. Can be an int, float, or numpy.array. When the variable is first initialized this has a default value of 1 (the \"seed vector\").\n",
    "\n",
    "As mentioned above, functions take in a variable and output a new variable with a transformed value and gradient.\n",
    "\n",
    "The value and gradient of a variable can be obtained by the user by calling .val or .grad on the variable. Additionally, the user can print a variable to see its value and gradient.\n",
    "\n",
    "```Python\n",
    "    # Define a variable with an initial value\n",
    "    x = Variable(5.)\n",
    "    \n",
    "    x.val\n",
    "    >>>> [5.]\n",
    "    \n",
    "    x.grad\n",
    "    >>>> [1.]\n",
    "    \n",
    "    print(x)\n",
    "    >>>> Value: [5.]\n",
    "    >>>> Gradient: [1.]\n",
    "\n",
    "```\n",
    "\n",
    "\n",
    "#### External dependencies:\n",
    "External dependencies for our package are listed in requirements.txt\n",
    "\n",
    "The required external dependencies are Numpy and Matplotlib.\n",
    "\n",
    "Required:\n",
    "- Numpy 1.16.4 (for vector operations)\n",
    "- Matplotlib 3.1.1 (for visualization)\n",
    "\n",
    "\n",
    "#### Elementary functions:\n",
    "\n",
    "The elementary functions such as **sin**, **exp**, etc are all implemented as subclasses of **Function**.\n",
    "\n",
    "For each elementary function, we explicitedly define its value and derivative. For example, $e^x$ below:\n",
    "\n",
    "```Python\n",
    "    class Exponent(Function):\n",
    "        \"\"\"Exponential\"\"\"    \n",
    "        def get_val(self, x):\n",
    "            return np.exp(x)\n",
    "    \n",
    "        def get_grad(self, x):\n",
    "            return np.exp(x)\n",
    "```\n",
    "\n",
    "In our current implementation, the elementary functions we have implemented along with their derivatives are as follows:\n",
    "\n",
    "| Elementary Function      |  Derivative            |\n",
    "|--------------------------|------------------------|\n",
    "|        $e^x$             |   $e^x$                |\n",
    "|        $sin(x)$          |   $cos(x)$             |\n",
    "|        $cos(x)$          |   $-sin(x)$            |\n",
    "|        $tan(x)$          |   $\\frac{1}{cos(x)^2}$ | \n",
    "|        $arcsin(x)$       |   $\\frac{1}{\\sqrt{1-x^2}}$ | \n",
    "|        $arccos(x)$       |   $-\\frac{1}{\\sqrt{1-x^2}}$ | \n",
    "|        $arctan(x)$       |   $\\frac{1}{1+x^2}$ | \n",
    "|        $log(x)$          |   $\\frac{1}{x}$ | \n",
    "|        $logistic(x)$     |   $x(1-x)$ | \n",
    "|        $sqrt(x)$         |   $\\frac{1}{2\\sqrt{x}}$ | \n",
    " \n"
   ]
  },
  {
   "cell_type": "markdown",
   "metadata": {},
   "source": [
    "# Our Extention\n",
    "\n",
    "\n",
    "\n",
    "## Additional features: Reverse Mode\n",
    "\n",
    "The usage of reverse mode has some differences from the forward mode.\n",
    "To get started, you need to import `ReverseVariable` rather than `Variable` from the package `autodiff.variable`."
   ]
  },
  {
   "cell_type": "code",
   "execution_count": 15,
   "metadata": {},
   "outputs": [],
   "source": [
    "import numpy as np\n",
    "from autodiff.variable import ReverseVariable\n",
    "import autodiff.function as F"
   ]
  },
  {
   "cell_type": "markdown",
   "metadata": {},
   "source": [
    "See below for an example of how the user can interact with our package:\n",
    "\n",
    "1. Create a reverse mode variable instantiated at an initial value. Different from `Variable`, initializing a `ReverseVariable` does not require you to include all variables within a vector. You can initialize it independently, and you do not need to use `unroll` function to assign variables.\n",
    "    * Below we create three ReverseVariables. `x` and `y` are 2d vectors, while `z` is a scalar variable.\n",
    "    * The gradient of each variable is not assigned now, until doing the reverse pass.\n",
    "2. Define a function. Defining functions are the same as `Variables`.\n",
    "    * Functions take `ReverseVariable` as inputs and return new `ReverseVariable` with updated value.\n",
    "    * Different from `Variable`, `ReverseVariable` will record the parent-child structure. In our example, we use `F.sqrt(z)`, then its parent is `z`, and it is a child of `z`. Simultaneously, the new `ReverseVariable` will record the derivative based on its parent, *i.e.*, `d(F.sqrt(z))/dz`.\n",
    "    * Same as `Variable`, `ReverseVariable` will do the forward pass while constructing the new variables.\n",
    "3. Call the function and do the reverse pass, and get the final gradient.\n",
    "    * After instantiate the function returning a new `ReverseVariable`, call the `reverse` method of the new `ReverseVariable`. It does the reverse pass and get the gradient of each variable.\n",
    "    * Different from `Variable`, the gradients are not stored in the final `ReverseVariable`. Assume `f` is the final output, and you want to get `df/dz`, then you can get it using `z.grad`."
   ]
  },
  {
   "cell_type": "code",
   "execution_count": 16,
   "metadata": {},
   "outputs": [
    {
     "name": "stdout",
     "output_type": "stream",
     "text": [
      "Output f [[6.]\n",
      " [6.]]\n",
      "df/dx [[2. 0.]\n",
      " [0. 2.]]\n",
      "df/dy [[2. 0.]\n",
      " [0. 2.]]\n",
      "df/dz [[0.75]\n",
      " [0.75]]\n"
     ]
    }
   ],
   "source": [
    "# Define three variables\n",
    "x = ReverseVariable([1, 2])\n",
    "y = ReverseVariable([2, 1])\n",
    "z = ReverseVariable(4)\n",
    "\n",
    "# Define a function\n",
    "def my_func(x, y, z):\n",
    "    return F.sqrt(z) * (x + y)\n",
    "\n",
    "# ReverseVariable f is the result of calling function on x, y, and z\n",
    "f = my_func(x, y, z)\n",
    "\n",
    "# Get value of f\n",
    "print(\"Output f\", f.val)\n",
    "\n",
    "# Run the reverse pass\n",
    "f.reverse()\n",
    "\n",
    "# Get gradient of f, based on x, y, and z\n",
    "print(\"df/dx\", x.grad)\n",
    "print(\"df/dy\", y.grad)\n",
    "print(\"df/dz\", z.grad)"
   ]
  },
  {
   "cell_type": "markdown",
   "metadata": {},
   "source": [
    "**Implementation of Reverse Mode**\n",
    "\n",
    "Different `Variable`, `ReverseVariable` needs to record the parent-child structure explicitly.\n",
    "`ReverseVariable` has the following attributes:\n",
    "* children: a list of children\n",
    "* left: the first parent\n",
    "* leftgrad: the gradient based on the first parent in the forward pass\n",
    "* right: the second parent\n",
    "* rightgrad: the gradient based on the second parent in the forward pass\n",
    "* grad: the final gradient based on the variable after running the reverse pass\n",
    "\n",
    "`ReverseVariable` is initialized with a value. When using operators (`+`, `-`, *etc*), or functions, it will return a new `ReverseVariable`, and record the parent-child structure simultaneously, using the attributes above. The reverse pass is straightforward since we have the parent-child structures."
   ]
  },
  {
   "cell_type": "markdown",
   "metadata": {},
   "source": [
    "## Additional features: Optimizers"
   ]
  },
  {
   "cell_type": "markdown",
   "metadata": {},
   "source": [
    "Having acces to the gradient has many concrete applications, one of which is finding the critical point of a given function. `autodiff` enables such concrete applications via the `autodiff.optim` module, which uses the gradient calculation obtained by the implemented forward mode derivation to enable the use of iterative minimizing methods.\n",
    "\n",
    "A base class `optim.Optimizer` implements several methods, all of which are common to the different optimizing methods we consider. \n",
    "An optimizer must be instantiated with a learning rate, a tolerance, an intialization point and a loss function.\n",
    "* We follow the convention that the a loss function $\\mathbb{R}^{N} \\rightarrow \\mathbb{R_+} $. We further assume the user defines a function within the autodiff semantic.\n",
    "* The initialization point should be an autodiff.variable.Variable object (the case where a numpy array is provided is also handled). \n",
    "\n",
    "Furthermore, the methods such as `minimize`, `eval_loss, etc...` are implemented by the base class.\n",
    "One should also be aware that the optimizing procedure (via `minimize`) will stop when a certain number of iterations is reached or whenever the value of the loss function is $\\leq$ tol (which is meaningful whenever the loss function is positive).\n",
    "\n",
    "We implement two widely used optimizing methods for the end-user: `optim.GradientDescent` and `optim.RMSProp`, and also provide some additional visualization methods for sanity check and debugging purposes mainly (requires `matplotlib` visualization library). \n",
    "\n",
    "A user who wants to create his own optimizing methods is implicitly expected to have some knowledge of the autodiff package, and differential calculus. This being said, any new optimzing method can be implemented by overloading the `_step` method, which should update the `current_point` attribute given the current `loss` value. \n",
    "\n",
    "For ilustration purposes, we provide a simple example with a user-defined gradient descent method."
   ]
  },
  {
   "cell_type": "code",
   "execution_count": 2,
   "metadata": {},
   "outputs": [],
   "source": [
    "#Straightforward import\n",
    "import autodiff.optim as optim"
   ]
  },
  {
   "cell_type": "markdown",
   "metadata": {},
   "source": [
    "![optimizer.png](figs/optimizer.png)"
   ]
  },
  {
   "cell_type": "markdown",
   "metadata": {},
   "source": [
    "Source:[hackernoon](https://hackernoon.com/gradient-descent-aynk-7cbe95a778da)"
   ]
  },
  {
   "cell_type": "code",
   "execution_count": 10,
   "metadata": {},
   "outputs": [
    {
     "data": {
      "text/plain": [
       "[autodiff.optim.GradientDescent, autodiff.optim.RMSProp]"
      ]
     },
     "execution_count": 10,
     "metadata": {},
     "output_type": "execute_result"
    }
   ],
   "source": [
    "optim.Optimizer.__subclasses__()"
   ]
  },
  {
   "cell_type": "code",
   "execution_count": 11,
   "metadata": {},
   "outputs": [
    {
     "name": "stdout",
     "output_type": "stream",
     "text": [
      "Help on class GradientDescent in module autodiff.optim:\n",
      "\n",
      "class GradientDescent(Optimizer)\n",
      " |  GradientDescent(lr, tol, loss_fn, init_point)\n",
      " |  \n",
      " |  Base class for optimizing methods:\n",
      " |      Implements base methods for a family of optimizers.\n",
      " |      _step method not implemented and base class can not optimize a given function.\n",
      " |  \n",
      " |  Method resolution order:\n",
      " |      GradientDescent\n",
      " |      Optimizer\n",
      " |      builtins.object\n",
      " |  \n",
      " |  Methods inherited from Optimizer:\n",
      " |  \n",
      " |  __init__(self, lr, tol, loss_fn, init_point)\n",
      " |      init_point: numpy.array or autodiff.Variable\n",
      " |      loss_fn should be a function wrapped around autodiff module\n",
      " |          loss_fn input: N-Dimensional Variable\n",
      " |          loss_fn output: 1-Dimensional Variable.\n",
      " |          Should be positive by definition of a loss function.\n",
      " |          Any type of function could be used.\n",
      " |      Remark: We enforce the loss_fn to be a 1-Dimensional,\n",
      " |      because the space of real numbers is a implicit ordered set.\n",
      " |      lr: strictly positive float\n",
      " |      tol: strictly positive float-Stops the iterations whenever the loss_fn\n",
      " |      becomes strictly inferior to tol.\n",
      " |  \n",
      " |  __repr__(self)\n",
      " |      Return repr(self).\n",
      " |  \n",
      " |  minimize(self, nb_steps, keep_track=True)\n",
      " |      Keep track is a bool-> True returns the different losses/points obtained durring optim.\n",
      " |  \n",
      " |  visualize(self, losses, trajectory)\n",
      " |      Assumes matplotlib.pyplot is imported\n",
      " |      losses and trajectory are supposed to be generated by minimize\n",
      " |  \n",
      " |  ----------------------------------------------------------------------\n",
      " |  Data descriptors inherited from Optimizer:\n",
      " |  \n",
      " |  __dict__\n",
      " |      dictionary for instance variables (if defined)\n",
      " |  \n",
      " |  __weakref__\n",
      " |      list of weak references to the object (if defined)\n",
      "\n",
      "None\n"
     ]
    }
   ],
   "source": [
    "print(help(optim.GradientDescent))"
   ]
  },
  {
   "cell_type": "code",
   "execution_count": 12,
   "metadata": {},
   "outputs": [],
   "source": [
    "#Define a loss function. \n",
    "#Positive function ideally, by definition.\n",
    "def my_loss_fn(X):\n",
    "    #Euclidian distance\n",
    "    x, y = X.unroll()\n",
    "    return (x-y)**2"
   ]
  },
  {
   "cell_type": "code",
   "execution_count": 13,
   "metadata": {},
   "outputs": [
    {
     "name": "stdout",
     "output_type": "stream",
     "text": [
      "Minimized the function for 36 steps.\n"
     ]
    }
   ],
   "source": [
    "#Init point, lr, tol and instantatiate an optimizer.\n",
    "init_point = Variable([10, -10])\n",
    "tol = 0.0001\n",
    "lr = 0.05\n",
    "gd = optim.GradientDescent(lr, tol, my_loss_fn, init_point)\n",
    "\n",
    "nb_iterations = 1000\n",
    "#Stops whenever the loss is smaller than tol or nb_iterations has been reached.\n",
    "final_point, loss, trajectory = gd.minimize(nb_iterations)"
   ]
  },
  {
   "cell_type": "code",
   "execution_count": 14,
   "metadata": {},
   "outputs": [
    {
     "data": {
      "image/png": "[encoded data removed]",
      "text/plain": [
       "<Figure size 1440x360 with 3 Axes>"
      ]
     },
     "metadata": {
      "needs_background": "light"
     },
     "output_type": "display_data"
    }
   ],
   "source": [
    "import matplotlib.pyplot as plt\n",
    "gd.visualize(loss, trajectory)"
   ]
  },
  {
   "cell_type": "markdown",
   "metadata": {},
   "source": [
    "## How to define your own Optimizer using optim.Optimizer"
   ]
  },
  {
   "cell_type": "code",
   "execution_count": 17,
   "metadata": {},
   "outputs": [
    {
     "name": "stdout",
     "output_type": "stream",
     "text": [
      "Minimized the function for 33 steps.\n"
     ]
    },
    {
     "data": {
      "image/png": "[encoded data removed]",
      "text/plain": [
       "<Figure size 1440x360 with 3 Axes>"
      ]
     },
     "metadata": {
      "needs_background": "light"
     },
     "output_type": "display_data"
    }
   ],
   "source": [
    "#User-defined gradient descent. \n",
    "class MY_OWN_GradientDescent(optim.Optimizer):\n",
    "    def _step(self, loss):\n",
    "        self.current_point -= self.lr * loss.grad.T\n",
    "\n",
    "init_point = Variable([1, -10])\n",
    "tol = 0.0001\n",
    "lr = 0.05\n",
    "my_gd = MY_OWN_GradientDescent(lr, tol, my_loss_fn, init_point)\n",
    "\n",
    "nb_iterations = 1000\n",
    "final_point, loss, trajectory = my_gd.minimize(nb_iterations)\n",
    "\n",
    "gd.visualize(loss, trajectory)"
   ]
  },
  {
   "cell_type": "code",
   "execution_count": 18,
   "metadata": {},
   "outputs": [
    {
     "name": "stdout",
     "output_type": "stream",
     "text": [
      "Minimized the function for 143 steps.\n"
     ]
    },
    {
     "data": {
      "image/png": "[encoded data removed]",
      "text/plain": [
       "<Figure size 1440x360 with 3 Axes>"
      ]
     },
     "metadata": {
      "needs_background": "light"
     },
     "output_type": "display_data"
    }
   ],
   "source": [
    "#Runs RMSProp \n",
    "init_point = Variable([1, -10])\n",
    "tol = 0.0001\n",
    "lr = 0.05\n",
    "rmsprop = optim.RMSProp(lr, tol, my_loss_fn, init_point)\n",
    "point, loss, trajectory = rmsprop.minimize(1000)\n",
    "\n",
    "import matplotlib.pyplot as plt\n",
    "rmsprop.visualize(loss, trajectory)"
   ]
  },
  {
   "cell_type": "markdown",
   "metadata": {},
   "source": [
    "# Future Work"
   ]
  },
  {
   "cell_type": "markdown",
   "metadata": {},
   "source": [
    "## 1-Specific to autodiff.optim\n",
    "* Use of more general stopping criteria: one may want to optimize a complex function and relax the loss function assumption to obtain reward function for instance. Furthermore, the stopping criterion used so far implicitly assumes the existence and the ability to reach an optimum. Stopping the oterative method whenever the loss is not sufficiently decreasing could be one of the future steps.\n",
    "\n",
    "* Optimization is an active area of research and any tool that allows to gain insight of the optimization steps is a desiderata for many practicioners.\n",
    "\n",
    "\n",
    "## 2- Reverse mode \n",
    "* One key element that should be included in the future features: making the interface, use and API of Reverse Mode automatic differentation similar to the forward mode API. Consequently, a user could switch from mode to another depending on his needs, and this with minimal impact to his overall codes/files stucture. \n",
    "\n",
    "\n",
    "## 3-Others\n",
    "* Ultimately, many Machine Learning practicioners use torch framework, that allows fast matrix multiplications, parallel computations on GPUs and an extremely efficient reverse mode automatic differentation (based on a C++ data structure). However, no forward mode automatic differentiation is implemented within the framework. Our autodiff package (and the forward mode encapsulated within the Variable) is based on numpy arrays dot products and multiplications. Due to the similarities between Numpy and Torch APIs, our belief is that adapting/extending autodiff to handle tensors should be possible. Without claiming an implementation as efficient as the original torch reverse mode, the autodiff extension could allow the user to easily handle functions in multi-dimensional space for instance. "
   ]
  },
  {
   "cell_type": "markdown",
   "metadata": {},
   "source": [
    "**Easy to go from one framework to another.**\n",
    "```python\n",
    "import torch \n",
    "import numpy as np\n",
    "x = np.array([1,2])\n",
    "x_ = torch.from_numpy(x)\n",
    "print(x_)\n",
    ">>> tensor([1, 2])\n",
    "```"
   ]
  }
 ],
 "metadata": {
  "kernelspec": {
   "display_name": "Python 3",
   "language": "python",
   "name": "python3"
  },
  "language_info": {
   "codemirror_mode": {
    "name": "ipython",
    "version": 3
   },
   "file_extension": ".py",
   "mimetype": "text/x-python",
   "name": "python",
   "nbconvert_exporter": "python",
   "pygments_lexer": "ipython3",
   "version": "3.7.4"
  }
 },
 "nbformat": 4,
 "nbformat_minor": 2
}
