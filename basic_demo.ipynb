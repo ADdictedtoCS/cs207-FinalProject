{
 "cells": [
  {
   "cell_type": "markdown",
   "metadata": {},
   "source": [
    "# How to use autodif:"
   ]
  },
  {
   "cell_type": "markdown",
   "metadata": {},
   "source": [
    "**Install autodiff package:**\n",
    "\n",
    "----\n",
    "*Option 1:*\n",
    "\n",
    "Our package is available on PyPI. The preferred way for installing our package via PyPI is as follows:\n",
    "\n",
    "First, the user can (optionally) create a virtual environment before installing our package dependencies. A virtual enviroment would allow the user to compartmentalize the the dependencies for our package from the dependencies of other projects they might be working on.\n",
    "\n",
    "For users unfamiliar with virtual environments, the tool virtualenv can be easily installed via:\n",
    "\n",
    "    sudo easy_install virtualenv\n",
    "\n",
    "The user can then activate a virtual environment via:\n",
    "\n",
    "    virtualenv env\n",
    "    source env/bin/activate\n",
    "    \n",
    "Note: the user can later deactivate the virtual enviroment via:\n",
    "\n",
    "    deactivate\n",
    "    \n",
    "Then, the user can simply install our package from PyPI via:\n",
    "\n",
    "    pip install autodiff-ADdictedtoCS\n",
    "\n",
    "----\n",
    "*Option 2:*\n",
    "\n",
    "Alternatively, the autodiff package can be downloaded directly from our organization's github repository at: https://github.com/ADdictedtoCS/cs207-FinalProject.git\n",
    "\n",
    "The user can then install the requirements via:\n",
    "\n",
    "    pip install -r requirements.txt"
   ]
  },
  {
   "cell_type": "markdown",
   "metadata": {},
   "source": [
    "The user can then import our package as follows..."
   ]
  },
  {
   "cell_type": "code",
   "execution_count": 2,
   "metadata": {},
   "outputs": [],
   "source": [
    "#  Import statements\n",
    "import autodiff\n",
    "import autodiff.function as F\n",
    "import autodiff.optim as optim\n",
    "from autodiff.variable import Variable"
   ]
  },
  {
   "cell_type": "markdown",
   "metadata": {},
   "source": [
    "See below for an example of how the user can interact with our package:\n",
    "\n",
    "1. Create a \"variable\" instantiated with a vector of initial values\n",
    "    - For a multivariate function of 3 inputs for example, \"variable\" takes in the initial value\n",
    "      of each input\n",
    "2. Define a function \n",
    "    - Functions take variables as inputs and return new variables with updated values and gradients\n",
    "3. Call the function and get the value and gradient of the resulting variable \n",
    "    - The user can simply print the variable or alternatively call .val or .grad on the variable\n",
    "\n",
    "*Remarks*: \n",
    "- The user can benefit from a natural and simple way to interact with the Variables and Functions.\n",
    "-  autodiff.function also supports a range of different elementary functions. See \"Implementation Details\" section below for further details.\n"
   ]
  },
  {
   "cell_type": "markdown",
   "metadata": {},
   "source": [
    "### Example 1: Single input, single output"
   ]
  },
  {
   "cell_type": "code",
   "execution_count": 5,
   "metadata": {},
   "outputs": [
    {
     "name": "stdout",
     "output_type": "stream",
     "text": [
      "Input x:\n",
      "Value:\n",
      "0.0\n",
      "Gradient:\n",
      "1.0\n",
      "\n",
      "Output z:\n",
      "Value:\n",
      "0.8414709848078965\n",
      "Gradient:\n",
      "0.5403023058681398\n",
      "The value is: 0.8414709848078965\n",
      "The gradient is: 0.5403023058681398\n"
     ]
    }
   ],
   "source": [
    "# Example R^1 -> R^1\n",
    "\n",
    "# Define a variable with an initial value\n",
    "x = Variable(0.)\n",
    "print(\"Input x:\")\n",
    "print(x)\n",
    "\n",
    "# Define a function\n",
    "def my_func(x):\n",
    "    return F.sin(F.exp(x))\n",
    "\n",
    "# Variable z is the result of calling function on x\n",
    "z = my_func(x)\n",
    "\n",
    "# Get value and gradient of z\n",
    "print(\"\\nOutput z:\")\n",
    "print(z)\n",
    "\n",
    "# Alternatively:\n",
    "print('The value is: {}'.format(z.val))\n",
    "print('The gradient is: {}'.format(z.grad))"
   ]
  },
  {
   "cell_type": "markdown",
   "metadata": {},
   "source": [
    "Above, we initialize a variable x with a value of 0\n",
    "\n",
    "We then define the function:  \n",
    "     $f(x) = sin(exp(x))$\n",
    "\n",
    "Lastly, we get the value and the gradient of the function at the initial point:  \n",
    "Value: $sin(exp(0)) = 0.841$  \n",
    "Gradient: $exp(0)*cos(exp(0)) = 0.540$  "
   ]
  },
  {
   "cell_type": "markdown",
   "metadata": {},
   "source": [
    "### Example 2: Multi input, single output"
   ]
  },
  {
   "cell_type": "code",
   "execution_count": 7,
   "metadata": {},
   "outputs": [
    {
     "name": "stdout",
     "output_type": "stream",
     "text": [
      "Input X\n",
      "Value:\n",
      "[[0.]\n",
      " [1.]\n",
      " [2.]]\n",
      "Gradient:\n",
      "[[1. 0. 0.]\n",
      " [0. 1. 0.]\n",
      " [0. 0. 1.]]\n",
      "\n",
      "Output:\n",
      "The value is: 3.0\n",
      "The gradient is: [[0. 2. 1.]]\n"
     ]
    }
   ],
   "source": [
    "# Example R^3 -> R^1\n",
    "\n",
    "# Define a variable with a vector of initial values\n",
    "X = Variable([0,1,2])\n",
    "print(\"Input X\")\n",
    "print(X)\n",
    "\n",
    "# Define a function\n",
    "# Unroll allows us to define an expression using the individual input variables\n",
    "def my_func(X):\n",
    "    x, y, z = X.unroll()\n",
    "    return F.cos(x) + y * z\n",
    "\n",
    "# Variable out is the result of calling function on X\n",
    "out = my_func(X)\n",
    "\n",
    "# Print value and gradient of the output\n",
    "print('\\nOutput:')\n",
    "print('The value is: {}'.format(out.val))\n",
    "print('The gradient is: {}'.format(out.grad))"
   ]
  },
  {
   "cell_type": "markdown",
   "metadata": {},
   "source": [
    "Above, we initialize \"Variable\" X with a vector of initial values [0, 1, 2]\n",
    "\n",
    "X is thus a vector of 3 input variables, which can be obtained via \"unroll\".\n",
    "We can call these input variables x, y, z\n",
    "\n",
    "We then define a function in terms of the input variables  \n",
    "     $f(x,y,z) = cos(x) + y*z$\n",
    "\n",
    "Lastly, we get the value and the gradient of the function at the initial point:  \n",
    "Value:  \n",
    "$cos(0) + 1*2 = 3$  \n",
    "Gradient:  \n",
    "$ \\frac{\\partial{f}}{\\partial{x}} = -sin(x) = 0$  \n",
    "$ \\frac{\\partial{f}}{\\partial{y}} = z = 2 $  \n",
    "$ \\frac{\\partial{f}}{\\partial{z}} = y = 1 $  "
   ]
  },
  {
   "cell_type": "markdown",
   "metadata": {},
   "source": [
    "### Case 3: Multi input, multi output"
   ]
  },
  {
   "cell_type": "code",
   "execution_count": 11,
   "metadata": {},
   "outputs": [
    {
     "name": "stdout",
     "output_type": "stream",
     "text": [
      "Input X\n",
      "Value:\n",
      "[[0.]\n",
      " [1.]\n",
      " [2.]]\n",
      "Gradient:\n",
      "[[1. 0. 0.]\n",
      " [0. 1. 0.]\n",
      " [0. 0. 1.]]\n",
      "\n",
      "Output:\n",
      "The value is: \n",
      "[[0.84147098]\n",
      " [4.76219569]\n",
      " [0.30103   ]]\n",
      "The gradient is: \n",
      "[[0.54030231 0.         0.        ]\n",
      " [0.         1.         3.62686041]\n",
      " [0.         0.         0.21714724]]\n"
     ]
    }
   ],
   "source": [
    "# Example R^3 -> R^3\n",
    "\n",
    "# Define a variable with a vector of initial values\n",
    "X = Variable([0,1,2])\n",
    "print(\"Input X\")\n",
    "print(X)\n",
    "\n",
    "# Define a function\n",
    "# Unroll allows us to define an expression using the individual input variables\n",
    "# Concat is used to build the output vector of the function\n",
    "def my_func3(X):\n",
    "    x, y, z = X.unroll()\n",
    "    o1 = F.sin(F.exp(x))\n",
    "    o2 = y + F.cosh(z)\n",
    "    o3 = F.Log(10)(z)\n",
    "    out_X = F.concat([o1, o2, o3])\n",
    "    return out_X\n",
    "\n",
    "# Variable out is the result of calling function on X\n",
    "out = my_func3(X)\n",
    "\n",
    "# Print value and gradient of the output\n",
    "print('\\nOutput:')\n",
    "print('The value is: \\n{}'.format(out.val))\n",
    "print('The gradient is: \\n{}'.format(out.grad))"
   ]
  }
 ],
 "metadata": {
  "kernelspec": {
   "display_name": "Python 3",
   "language": "python",
   "name": "python3"
  },
  "language_info": {
   "codemirror_mode": {
    "name": "ipython",
    "version": 3
   },
   "file_extension": ".py",
   "mimetype": "text/x-python",
   "name": "python",
   "nbconvert_exporter": "python",
   "pygments_lexer": "ipython3",
   "version": "3.7.3"
  }
 },
 "nbformat": 4,
 "nbformat_minor": 2
}
